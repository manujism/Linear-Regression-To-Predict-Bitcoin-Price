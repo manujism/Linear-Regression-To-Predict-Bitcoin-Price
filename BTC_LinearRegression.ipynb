#import 
import pandas as pd
import numpy as np
import matplotlib.pyplot as plt
import yfinance as yf
from sklearn import metrics 
from datetime import datetime , timedelta 
